{
 "cells": [
  {
   "cell_type": "code",
   "execution_count": 145,
   "id": "f382c4cb-1f5e-4afd-b1fe-d2246a5b0e7b",
   "metadata": {},
   "outputs": [],
   "source": [
    "import pandas as pd\n",
    "import numpy as np\n",
    "import matplotlib.pyplot as plt\n",
    "import scipy as sc\n",
    "import sklearn as sk\n",
    "import seaborn as sns"
   ]
  },
  {
   "cell_type": "raw",
   "id": "19f879a6-ae1a-4fbc-be0d-3003c2c7f9ca",
   "metadata": {},
   "source": [
    "Data Cleaning"
   ]
  },
  {
   "cell_type": "code",
   "execution_count": 146,
   "id": "62534252-0709-4c9f-9917-391b4b28cfa4",
   "metadata": {},
   "outputs": [
    {
     "data": {
      "text/html": [
       "<div>\n",
       "<style scoped>\n",
       "    .dataframe tbody tr th:only-of-type {\n",
       "        vertical-align: middle;\n",
       "    }\n",
       "\n",
       "    .dataframe tbody tr th {\n",
       "        vertical-align: top;\n",
       "    }\n",
       "\n",
       "    .dataframe thead th {\n",
       "        text-align: right;\n",
       "    }\n",
       "</style>\n",
       "<table border=\"1\" class=\"dataframe\">\n",
       "  <thead>\n",
       "    <tr style=\"text-align: right;\">\n",
       "      <th></th>\n",
       "      <th>Age</th>\n",
       "      <th>Gender</th>\n",
       "      <th>headache</th>\n",
       "      <th>muscle pain</th>\n",
       "      <th>nausea</th>\n",
       "      <th>diarrhea</th>\n",
       "      <th>cough</th>\n",
       "      <th>fever range (deg F)</th>\n",
       "      <th>Hemoglobin (g/dL)</th>\n",
       "      <th>Platelet Count</th>\n",
       "      <th>Urine Culture Bacteria</th>\n",
       "      <th>Calcium (mg/dL)</th>\n",
       "      <th>Potassium (mg/dL)</th>\n",
       "      <th>typhoid</th>\n",
       "    </tr>\n",
       "  </thead>\n",
       "  <tbody>\n",
       "    <tr>\n",
       "      <th>0</th>\n",
       "      <td>24</td>\n",
       "      <td>Male</td>\n",
       "      <td>1</td>\n",
       "      <td>1</td>\n",
       "      <td>1</td>\n",
       "      <td>0</td>\n",
       "      <td>1</td>\n",
       "      <td>101.8</td>\n",
       "      <td>13.7</td>\n",
       "      <td>272673</td>\n",
       "      <td>0rmal</td>\n",
       "      <td>8.2</td>\n",
       "      <td>4.2</td>\n",
       "      <td>1</td>\n",
       "    </tr>\n",
       "    <tr>\n",
       "      <th>1</th>\n",
       "      <td>42</td>\n",
       "      <td>Male</td>\n",
       "      <td>0</td>\n",
       "      <td>0</td>\n",
       "      <td>1</td>\n",
       "      <td>0</td>\n",
       "      <td>1</td>\n",
       "      <td>104.8</td>\n",
       "      <td>11.3</td>\n",
       "      <td>175743</td>\n",
       "      <td>0rmal</td>\n",
       "      <td>8.9</td>\n",
       "      <td>4.5</td>\n",
       "      <td>1</td>\n",
       "    </tr>\n",
       "    <tr>\n",
       "      <th>2</th>\n",
       "      <td>32</td>\n",
       "      <td>Female</td>\n",
       "      <td>1</td>\n",
       "      <td>0</td>\n",
       "      <td>1</td>\n",
       "      <td>1</td>\n",
       "      <td>0</td>\n",
       "      <td>101.5</td>\n",
       "      <td>12.8</td>\n",
       "      <td>217500</td>\n",
       "      <td>Escherichia coli</td>\n",
       "      <td>8.8</td>\n",
       "      <td>4.8</td>\n",
       "      <td>1</td>\n",
       "    </tr>\n",
       "    <tr>\n",
       "      <th>3</th>\n",
       "      <td>59</td>\n",
       "      <td>Male</td>\n",
       "      <td>0</td>\n",
       "      <td>1</td>\n",
       "      <td>1</td>\n",
       "      <td>1</td>\n",
       "      <td>1</td>\n",
       "      <td>104.9</td>\n",
       "      <td>13.5</td>\n",
       "      <td>247444</td>\n",
       "      <td>Klebsiella pneumoniae</td>\n",
       "      <td>9.4</td>\n",
       "      <td>3.5</td>\n",
       "      <td>1</td>\n",
       "    </tr>\n",
       "    <tr>\n",
       "      <th>4</th>\n",
       "      <td>37</td>\n",
       "      <td>Female</td>\n",
       "      <td>1</td>\n",
       "      <td>1</td>\n",
       "      <td>0</td>\n",
       "      <td>0</td>\n",
       "      <td>0</td>\n",
       "      <td>100.4</td>\n",
       "      <td>13.2</td>\n",
       "      <td>257447</td>\n",
       "      <td>0rmal</td>\n",
       "      <td>9.1</td>\n",
       "      <td>4.0</td>\n",
       "      <td>0</td>\n",
       "    </tr>\n",
       "  </tbody>\n",
       "</table>\n",
       "</div>"
      ],
      "text/plain": [
       "   Age  Gender  headache  muscle pain  nausea  diarrhea  cough  \\\n",
       "0   24    Male         1            1       1         0      1   \n",
       "1   42    Male         0            0       1         0      1   \n",
       "2   32  Female         1            0       1         1      0   \n",
       "3   59    Male         0            1       1         1      1   \n",
       "4   37  Female         1            1       0         0      0   \n",
       "\n",
       "   fever range (deg F)  Hemoglobin (g/dL)  Platelet Count  \\\n",
       "0                101.8               13.7          272673   \n",
       "1                104.8               11.3          175743   \n",
       "2                101.5               12.8          217500   \n",
       "3                104.9               13.5          247444   \n",
       "4                100.4               13.2          257447   \n",
       "\n",
       "  Urine Culture Bacteria  Calcium (mg/dL)  Potassium (mg/dL)  typhoid  \n",
       "0                  0rmal              8.2                4.2        1  \n",
       "1                  0rmal              8.9                4.5        1  \n",
       "2       Escherichia coli              8.8                4.8        1  \n",
       "3  Klebsiella pneumoniae              9.4                3.5        1  \n",
       "4                  0rmal              9.1                4.0        0  "
      ]
     },
     "execution_count": 146,
     "metadata": {},
     "output_type": "execute_result"
    }
   ],
   "source": [
    "data = pd.read_excel(\"Typhoid_Dataset.xlsx\")\n",
    "data.head(5)"
   ]
  },
  {
   "cell_type": "code",
   "execution_count": 147,
   "id": "c4fa83ce-2c82-4bd7-ae5a-7d694ff1924c",
   "metadata": {},
   "outputs": [
    {
     "data": {
      "text/plain": [
       "(659, 14)"
      ]
     },
     "execution_count": 147,
     "metadata": {},
     "output_type": "execute_result"
    }
   ],
   "source": [
    "data.shape"
   ]
  },
  {
   "cell_type": "code",
   "execution_count": 148,
   "id": "e0ced294-235c-492c-9201-dc720376b7a1",
   "metadata": {},
   "outputs": [
    {
     "name": "stdout",
     "output_type": "stream",
     "text": [
      "<class 'pandas.core.frame.DataFrame'>\n",
      "RangeIndex: 659 entries, 0 to 658\n",
      "Data columns (total 14 columns):\n",
      " #   Column                  Non-Null Count  Dtype  \n",
      "---  ------                  --------------  -----  \n",
      " 0   Age                     659 non-null    int64  \n",
      " 1   Gender                  659 non-null    object \n",
      " 2   headache                659 non-null    int64  \n",
      " 3   muscle pain             659 non-null    int64  \n",
      " 4   nausea                  659 non-null    int64  \n",
      " 5   diarrhea                659 non-null    int64  \n",
      " 6   cough                   659 non-null    int64  \n",
      " 7   fever range (deg F)     659 non-null    float64\n",
      " 8   Hemoglobin (g/dL)       659 non-null    float64\n",
      " 9   Platelet Count          659 non-null    int64  \n",
      " 10  Urine Culture Bacteria  659 non-null    object \n",
      " 11  Calcium (mg/dL)         659 non-null    float64\n",
      " 12  Potassium (mg/dL)       659 non-null    float64\n",
      " 13  typhoid                 659 non-null    int64  \n",
      "dtypes: float64(4), int64(8), object(2)\n",
      "memory usage: 72.2+ KB\n"
     ]
    }
   ],
   "source": [
    "data.info()"
   ]
  },
  {
   "cell_type": "code",
   "execution_count": 149,
   "id": "5cdcdf33-18fa-4729-ba65-746182dea39b",
   "metadata": {},
   "outputs": [
    {
     "data": {
      "text/plain": [
       "Age                       0\n",
       "Gender                    0\n",
       "headache                  0\n",
       "muscle pain               0\n",
       "nausea                    0\n",
       "diarrhea                  0\n",
       "cough                     0\n",
       "fever range (deg F)       0\n",
       "Hemoglobin (g/dL)         0\n",
       "Platelet Count            0\n",
       "Urine Culture Bacteria    0\n",
       "Calcium (mg/dL)           0\n",
       "Potassium (mg/dL)         0\n",
       "typhoid                   0\n",
       "dtype: int64"
      ]
     },
     "execution_count": 149,
     "metadata": {},
     "output_type": "execute_result"
    }
   ],
   "source": [
    "data.isnull().sum()"
   ]
  },
  {
   "cell_type": "raw",
   "id": "a2edbd5a-491d-4fcd-a071-a924ca384260",
   "metadata": {},
   "source": [
    "Data Transformation"
   ]
  },
  {
   "cell_type": "code",
   "execution_count": 150,
   "id": "e96fd19f-af87-4254-a147-35c0183ace18",
   "metadata": {},
   "outputs": [
    {
     "name": "stdout",
     "output_type": "stream",
     "text": [
      "<class 'pandas.core.frame.DataFrame'>\n",
      "RangeIndex: 659 entries, 0 to 658\n",
      "Data columns (total 14 columns):\n",
      " #   Column                  Non-Null Count  Dtype  \n",
      "---  ------                  --------------  -----  \n",
      " 0   Age                     659 non-null    int64  \n",
      " 1   Gender                  659 non-null    object \n",
      " 2   headache                659 non-null    int64  \n",
      " 3   muscle pain             659 non-null    int64  \n",
      " 4   nausea                  659 non-null    int64  \n",
      " 5   diarrhea                659 non-null    int64  \n",
      " 6   cough                   659 non-null    int64  \n",
      " 7   fever range (deg F)     659 non-null    float64\n",
      " 8   Hemoglobin (g/dL)       659 non-null    float64\n",
      " 9   Platelet Count          659 non-null    int64  \n",
      " 10  Urine Culture Bacteria  659 non-null    object \n",
      " 11  Calcium (mg/dL)         659 non-null    float64\n",
      " 12  Potassium (mg/dL)       659 non-null    float64\n",
      " 13  typhoid                 659 non-null    int64  \n",
      "dtypes: float64(4), int64(8), object(2)\n",
      "memory usage: 72.2+ KB\n"
     ]
    }
   ],
   "source": [
    "data.info()"
   ]
  },
  {
   "cell_type": "code",
   "execution_count": 151,
   "id": "60abad49-2ee8-4e48-8939-e082cfdc8cd1",
   "metadata": {},
   "outputs": [
    {
     "data": {
      "text/plain": [
       "typhoid\n",
       "1    500\n",
       "0    159\n",
       "Name: count, dtype: int64"
      ]
     },
     "execution_count": 151,
     "metadata": {},
     "output_type": "execute_result"
    }
   ],
   "source": [
    "data[\"typhoid\"].value_counts()"
   ]
  },
  {
   "cell_type": "code",
   "execution_count": 152,
   "id": "3b1080b7-7cd3-499a-a9c5-f27216a67f72",
   "metadata": {},
   "outputs": [
    {
     "data": {
      "text/plain": [
       "array(['Male', 'Female'], dtype=object)"
      ]
     },
     "execution_count": 152,
     "metadata": {},
     "output_type": "execute_result"
    }
   ],
   "source": [
    "data[\"Gender\"].unique()"
   ]
  },
  {
   "cell_type": "code",
   "execution_count": 153,
   "id": "93af812d-9386-4eb3-aaa5-b2cbdb8f1419",
   "metadata": {},
   "outputs": [],
   "source": [
    "data[\"Gender\"] = data[\"Gender\"].replace(['Male', 'Female'], [1, 2])"
   ]
  },
  {
   "cell_type": "code",
   "execution_count": 154,
   "id": "705e0e4f-f8d5-409f-a844-cab92b549c01",
   "metadata": {},
   "outputs": [
    {
     "data": {
      "text/plain": [
       "array([1, 2], dtype=int64)"
      ]
     },
     "execution_count": 154,
     "metadata": {},
     "output_type": "execute_result"
    }
   ],
   "source": [
    "data[\"Gender\"].unique()"
   ]
  },
  {
   "cell_type": "code",
   "execution_count": 155,
   "id": "00d7555a-b7aa-4ec2-ab56-9239dbfdb4c8",
   "metadata": {},
   "outputs": [
    {
     "data": {
      "text/plain": [
       "Urine Culture Bacteria\n",
       "0rmal                    286\n",
       "Escherichia coli         211\n",
       "Klebsiella pneumoniae    162\n",
       "Name: count, dtype: int64"
      ]
     },
     "execution_count": 155,
     "metadata": {},
     "output_type": "execute_result"
    }
   ],
   "source": [
    "data[\"Urine Culture Bacteria\"].value_counts()"
   ]
  },
  {
   "cell_type": "code",
   "execution_count": 156,
   "id": "046b8dfb-8595-4477-805c-0c9c8c2a4b5f",
   "metadata": {},
   "outputs": [],
   "source": [
    "from sklearn.preprocessing import LabelEncoder"
   ]
  },
  {
   "cell_type": "code",
   "execution_count": 157,
   "id": "efa861fe-cad0-4d3f-a7c6-63d21ed4a967",
   "metadata": {},
   "outputs": [],
   "source": [
    "Le = LabelEncoder()"
   ]
  },
  {
   "cell_type": "code",
   "execution_count": 158,
   "id": "f2296344-44fb-41a4-afa6-642c9193301a",
   "metadata": {},
   "outputs": [
    {
     "data": {
      "text/plain": [
       "Urine Culture Bacteria\n",
       "0    286\n",
       "1    211\n",
       "2    162\n",
       "Name: count, dtype: int64"
      ]
     },
     "execution_count": 158,
     "metadata": {},
     "output_type": "execute_result"
    }
   ],
   "source": [
    "data[\"Urine Culture Bacteria\"] = Le.fit_transform(data[\"Urine Culture Bacteria\"])\n",
    "data[\"Urine Culture Bacteria\"].value_counts()"
   ]
  },
  {
   "cell_type": "code",
   "execution_count": 159,
   "id": "f469f622-1b0d-46e7-bd5f-307bf50828c7",
   "metadata": {},
   "outputs": [
    {
     "data": {
      "text/plain": [
       "typhoid\n",
       "1    0.758725\n",
       "0    0.241275\n",
       "Name: proportion, dtype: float64"
      ]
     },
     "execution_count": 159,
     "metadata": {},
     "output_type": "execute_result"
    }
   ],
   "source": [
    "data[\"typhoid\"].value_counts(normalize=True)"
   ]
  },
  {
   "cell_type": "code",
   "execution_count": 160,
   "id": "1082eaa8-d895-4343-8594-1ec30aa471d5",
   "metadata": {},
   "outputs": [
    {
     "data": {
      "text/plain": [
       "<Axes: xlabel='typhoid'>"
      ]
     },
     "execution_count": 160,
     "metadata": {},
     "output_type": "execute_result"
    },
    {
     "data": {
      "image/png": "[encoded data removed]",
      "text/plain": [
       "<Figure size 640x480 with 1 Axes>"
      ]
     },
     "metadata": {},
     "output_type": "display_data"
    }
   ],
   "source": [
    "data[\"typhoid\"].value_counts(normalize=True).plot(kind=\"bar\")"
   ]
  },
  {
   "cell_type": "code",
   "execution_count": 161,
   "id": "b00866dc-0b9a-435e-a10a-b19e47f6d49f",
   "metadata": {},
   "outputs": [
    {
     "data": {
      "text/html": [
       "<div>\n",
       "<style scoped>\n",
       "    .dataframe tbody tr th:only-of-type {\n",
       "        vertical-align: middle;\n",
       "    }\n",
       "\n",
       "    .dataframe tbody tr th {\n",
       "        vertical-align: top;\n",
       "    }\n",
       "\n",
       "    .dataframe thead th {\n",
       "        text-align: right;\n",
       "    }\n",
       "</style>\n",
       "<table border=\"1\" class=\"dataframe\">\n",
       "  <thead>\n",
       "    <tr style=\"text-align: right;\">\n",
       "      <th></th>\n",
       "      <th>Age</th>\n",
       "      <th>headache</th>\n",
       "      <th>muscle pain</th>\n",
       "      <th>nausea</th>\n",
       "      <th>diarrhea</th>\n",
       "      <th>cough</th>\n",
       "      <th>fever range (deg F)</th>\n",
       "      <th>Hemoglobin (g/dL)</th>\n",
       "      <th>Platelet Count</th>\n",
       "      <th>Urine Culture Bacteria</th>\n",
       "      <th>Calcium (mg/dL)</th>\n",
       "      <th>Potassium (mg/dL)</th>\n",
       "      <th>typhoid</th>\n",
       "    </tr>\n",
       "    <tr>\n",
       "      <th>Gender</th>\n",
       "      <th></th>\n",
       "      <th></th>\n",
       "      <th></th>\n",
       "      <th></th>\n",
       "      <th></th>\n",
       "      <th></th>\n",
       "      <th></th>\n",
       "      <th></th>\n",
       "      <th></th>\n",
       "      <th></th>\n",
       "      <th></th>\n",
       "      <th></th>\n",
       "      <th></th>\n",
       "    </tr>\n",
       "  </thead>\n",
       "  <tbody>\n",
       "    <tr>\n",
       "      <th>1</th>\n",
       "      <td>42.610169</td>\n",
       "      <td>0.641243</td>\n",
       "      <td>0.525424</td>\n",
       "      <td>0.542373</td>\n",
       "      <td>0.548023</td>\n",
       "      <td>0.564972</td>\n",
       "      <td>102.346328</td>\n",
       "      <td>12.874576</td>\n",
       "      <td>220987.279661</td>\n",
       "      <td>0.757062</td>\n",
       "      <td>9.100282</td>\n",
       "      <td>4.387853</td>\n",
       "      <td>0.728814</td>\n",
       "    </tr>\n",
       "    <tr>\n",
       "      <th>2</th>\n",
       "      <td>42.632787</td>\n",
       "      <td>0.600000</td>\n",
       "      <td>0.590164</td>\n",
       "      <td>0.600000</td>\n",
       "      <td>0.580328</td>\n",
       "      <td>0.590164</td>\n",
       "      <td>102.567541</td>\n",
       "      <td>12.847869</td>\n",
       "      <td>219507.163934</td>\n",
       "      <td>0.875410</td>\n",
       "      <td>9.048525</td>\n",
       "      <td>4.327869</td>\n",
       "      <td>0.793443</td>\n",
       "    </tr>\n",
       "  </tbody>\n",
       "</table>\n",
       "</div>"
      ],
      "text/plain": [
       "              Age  headache  muscle pain    nausea  diarrhea     cough  \\\n",
       "Gender                                                                   \n",
       "1       42.610169  0.641243     0.525424  0.542373  0.548023  0.564972   \n",
       "2       42.632787  0.600000     0.590164  0.600000  0.580328  0.590164   \n",
       "\n",
       "        fever range (deg F)  Hemoglobin (g/dL)  Platelet Count  \\\n",
       "Gender                                                           \n",
       "1                102.346328          12.874576   220987.279661   \n",
       "2                102.567541          12.847869   219507.163934   \n",
       "\n",
       "        Urine Culture Bacteria  Calcium (mg/dL)  Potassium (mg/dL)   typhoid  \n",
       "Gender                                                                        \n",
       "1                     0.757062         9.100282           4.387853  0.728814  \n",
       "2                     0.875410         9.048525           4.327869  0.793443  "
      ]
     },
     "execution_count": 161,
     "metadata": {},
     "output_type": "execute_result"
    }
   ],
   "source": [
    "data.groupby(\"Gender\").mean()"
   ]
  },
  {
   "cell_type": "code",
   "execution_count": 162,
   "id": "9a764872-4aba-4ef4-b375-d69ec0cb7b7e",
   "metadata": {},
   "outputs": [
    {
     "data": {
      "text/html": [
       "<div>\n",
       "<style scoped>\n",
       "    .dataframe tbody tr th:only-of-type {\n",
       "        vertical-align: middle;\n",
       "    }\n",
       "\n",
       "    .dataframe tbody tr th {\n",
       "        vertical-align: top;\n",
       "    }\n",
       "\n",
       "    .dataframe thead th {\n",
       "        text-align: right;\n",
       "    }\n",
       "</style>\n",
       "<table border=\"1\" class=\"dataframe\">\n",
       "  <thead>\n",
       "    <tr style=\"text-align: right;\">\n",
       "      <th></th>\n",
       "      <th>Age</th>\n",
       "      <th>Gender</th>\n",
       "      <th>headache</th>\n",
       "      <th>muscle pain</th>\n",
       "      <th>nausea</th>\n",
       "      <th>diarrhea</th>\n",
       "      <th>cough</th>\n",
       "      <th>fever range (deg F)</th>\n",
       "      <th>Hemoglobin (g/dL)</th>\n",
       "      <th>Platelet Count</th>\n",
       "      <th>Urine Culture Bacteria</th>\n",
       "      <th>Calcium (mg/dL)</th>\n",
       "      <th>Potassium (mg/dL)</th>\n",
       "      <th>typhoid</th>\n",
       "    </tr>\n",
       "  </thead>\n",
       "  <tbody>\n",
       "    <tr>\n",
       "      <th>0</th>\n",
       "      <td>24</td>\n",
       "      <td>1</td>\n",
       "      <td>1</td>\n",
       "      <td>1</td>\n",
       "      <td>1</td>\n",
       "      <td>0</td>\n",
       "      <td>1</td>\n",
       "      <td>101.8</td>\n",
       "      <td>13.7</td>\n",
       "      <td>272673</td>\n",
       "      <td>0</td>\n",
       "      <td>8.2</td>\n",
       "      <td>4.2</td>\n",
       "      <td>1</td>\n",
       "    </tr>\n",
       "    <tr>\n",
       "      <th>1</th>\n",
       "      <td>42</td>\n",
       "      <td>1</td>\n",
       "      <td>0</td>\n",
       "      <td>0</td>\n",
       "      <td>1</td>\n",
       "      <td>0</td>\n",
       "      <td>1</td>\n",
       "      <td>104.8</td>\n",
       "      <td>11.3</td>\n",
       "      <td>175743</td>\n",
       "      <td>0</td>\n",
       "      <td>8.9</td>\n",
       "      <td>4.5</td>\n",
       "      <td>1</td>\n",
       "    </tr>\n",
       "    <tr>\n",
       "      <th>2</th>\n",
       "      <td>32</td>\n",
       "      <td>2</td>\n",
       "      <td>1</td>\n",
       "      <td>0</td>\n",
       "      <td>1</td>\n",
       "      <td>1</td>\n",
       "      <td>0</td>\n",
       "      <td>101.5</td>\n",
       "      <td>12.8</td>\n",
       "      <td>217500</td>\n",
       "      <td>1</td>\n",
       "      <td>8.8</td>\n",
       "      <td>4.8</td>\n",
       "      <td>1</td>\n",
       "    </tr>\n",
       "    <tr>\n",
       "      <th>3</th>\n",
       "      <td>59</td>\n",
       "      <td>1</td>\n",
       "      <td>0</td>\n",
       "      <td>1</td>\n",
       "      <td>1</td>\n",
       "      <td>1</td>\n",
       "      <td>1</td>\n",
       "      <td>104.9</td>\n",
       "      <td>13.5</td>\n",
       "      <td>247444</td>\n",
       "      <td>2</td>\n",
       "      <td>9.4</td>\n",
       "      <td>3.5</td>\n",
       "      <td>1</td>\n",
       "    </tr>\n",
       "    <tr>\n",
       "      <th>4</th>\n",
       "      <td>37</td>\n",
       "      <td>2</td>\n",
       "      <td>1</td>\n",
       "      <td>1</td>\n",
       "      <td>0</td>\n",
       "      <td>0</td>\n",
       "      <td>0</td>\n",
       "      <td>100.4</td>\n",
       "      <td>13.2</td>\n",
       "      <td>257447</td>\n",
       "      <td>0</td>\n",
       "      <td>9.1</td>\n",
       "      <td>4.0</td>\n",
       "      <td>0</td>\n",
       "    </tr>\n",
       "    <tr>\n",
       "      <th>5</th>\n",
       "      <td>42</td>\n",
       "      <td>1</td>\n",
       "      <td>1</td>\n",
       "      <td>0</td>\n",
       "      <td>0</td>\n",
       "      <td>1</td>\n",
       "      <td>1</td>\n",
       "      <td>102.5</td>\n",
       "      <td>12.9</td>\n",
       "      <td>256066</td>\n",
       "      <td>0</td>\n",
       "      <td>9.2</td>\n",
       "      <td>4.1</td>\n",
       "      <td>1</td>\n",
       "    </tr>\n",
       "    <tr>\n",
       "      <th>6</th>\n",
       "      <td>60</td>\n",
       "      <td>2</td>\n",
       "      <td>1</td>\n",
       "      <td>1</td>\n",
       "      <td>0</td>\n",
       "      <td>0</td>\n",
       "      <td>1</td>\n",
       "      <td>101.1</td>\n",
       "      <td>14.1</td>\n",
       "      <td>252139</td>\n",
       "      <td>1</td>\n",
       "      <td>9.3</td>\n",
       "      <td>5.1</td>\n",
       "      <td>0</td>\n",
       "    </tr>\n",
       "    <tr>\n",
       "      <th>7</th>\n",
       "      <td>41</td>\n",
       "      <td>1</td>\n",
       "      <td>1</td>\n",
       "      <td>0</td>\n",
       "      <td>0</td>\n",
       "      <td>1</td>\n",
       "      <td>1</td>\n",
       "      <td>101.6</td>\n",
       "      <td>14.1</td>\n",
       "      <td>255318</td>\n",
       "      <td>0</td>\n",
       "      <td>8.7</td>\n",
       "      <td>5.0</td>\n",
       "      <td>0</td>\n",
       "    </tr>\n",
       "    <tr>\n",
       "      <th>8</th>\n",
       "      <td>58</td>\n",
       "      <td>2</td>\n",
       "      <td>0</td>\n",
       "      <td>1</td>\n",
       "      <td>1</td>\n",
       "      <td>1</td>\n",
       "      <td>1</td>\n",
       "      <td>104.1</td>\n",
       "      <td>12.1</td>\n",
       "      <td>155222</td>\n",
       "      <td>1</td>\n",
       "      <td>8.5</td>\n",
       "      <td>4.1</td>\n",
       "      <td>1</td>\n",
       "    </tr>\n",
       "    <tr>\n",
       "      <th>9</th>\n",
       "      <td>27</td>\n",
       "      <td>1</td>\n",
       "      <td>1</td>\n",
       "      <td>1</td>\n",
       "      <td>0</td>\n",
       "      <td>0</td>\n",
       "      <td>1</td>\n",
       "      <td>100.7</td>\n",
       "      <td>14.1</td>\n",
       "      <td>252186</td>\n",
       "      <td>1</td>\n",
       "      <td>8.6</td>\n",
       "      <td>4.8</td>\n",
       "      <td>0</td>\n",
       "    </tr>\n",
       "  </tbody>\n",
       "</table>\n",
       "</div>"
      ],
      "text/plain": [
       "   Age  Gender  headache  muscle pain  nausea  diarrhea  cough  \\\n",
       "0   24       1         1            1       1         0      1   \n",
       "1   42       1         0            0       1         0      1   \n",
       "2   32       2         1            0       1         1      0   \n",
       "3   59       1         0            1       1         1      1   \n",
       "4   37       2         1            1       0         0      0   \n",
       "5   42       1         1            0       0         1      1   \n",
       "6   60       2         1            1       0         0      1   \n",
       "7   41       1         1            0       0         1      1   \n",
       "8   58       2         0            1       1         1      1   \n",
       "9   27       1         1            1       0         0      1   \n",
       "\n",
       "   fever range (deg F)  Hemoglobin (g/dL)  Platelet Count  \\\n",
       "0                101.8               13.7          272673   \n",
       "1                104.8               11.3          175743   \n",
       "2                101.5               12.8          217500   \n",
       "3                104.9               13.5          247444   \n",
       "4                100.4               13.2          257447   \n",
       "5                102.5               12.9          256066   \n",
       "6                101.1               14.1          252139   \n",
       "7                101.6               14.1          255318   \n",
       "8                104.1               12.1          155222   \n",
       "9                100.7               14.1          252186   \n",
       "\n",
       "   Urine Culture Bacteria  Calcium (mg/dL)  Potassium (mg/dL)  typhoid  \n",
       "0                       0              8.2                4.2        1  \n",
       "1                       0              8.9                4.5        1  \n",
       "2                       1              8.8                4.8        1  \n",
       "3                       2              9.4                3.5        1  \n",
       "4                       0              9.1                4.0        0  \n",
       "5                       0              9.2                4.1        1  \n",
       "6                       1              9.3                5.1        0  \n",
       "7                       0              8.7                5.0        0  \n",
       "8                       1              8.5                4.1        1  \n",
       "9                       1              8.6                4.8        0  "
      ]
     },
     "execution_count": 162,
     "metadata": {},
     "output_type": "execute_result"
    }
   ],
   "source": [
    "data.head(10)"
   ]
  },
  {
   "cell_type": "raw",
   "id": "50a323e1-b9e1-49de-94b6-e7952aa03aef",
   "metadata": {},
   "source": [
    "Splitting data"
   ]
  },
  {
   "cell_type": "code",
   "execution_count": 163,
   "id": "01dd8145-9999-4888-8725-0091db5427fa",
   "metadata": {},
   "outputs": [
    {
     "data": {
      "text/plain": [
       "Index(['Age', 'Gender', 'headache', 'muscle pain', 'nausea', 'diarrhea',\n",
       "       'cough', 'fever range (deg F)', 'Hemoglobin (g/dL)', 'Platelet Count',\n",
       "       'Urine Culture Bacteria', 'Calcium (mg/dL)', 'Potassium (mg/dL)',\n",
       "       'typhoid'],\n",
       "      dtype='object')"
      ]
     },
     "execution_count": 163,
     "metadata": {},
     "output_type": "execute_result"
    }
   ],
   "source": [
    "data.columns"
   ]
  },
  {
   "cell_type": "code",
   "execution_count": 164,
   "id": "a9d8220e-1a77-410d-a0a9-fef1e3ddf0e9",
   "metadata": {},
   "outputs": [
    {
     "data": {
      "text/plain": [
       "0      1\n",
       "1      1\n",
       "2      1\n",
       "3      1\n",
       "4      0\n",
       "      ..\n",
       "654    1\n",
       "655    0\n",
       "656    1\n",
       "657    1\n",
       "658    0\n",
       "Name: typhoid, Length: 659, dtype: int64"
      ]
     },
     "execution_count": 164,
     "metadata": {},
     "output_type": "execute_result"
    }
   ],
   "source": [
    "data.iloc[:,13]"
   ]
  },
  {
   "cell_type": "code",
   "execution_count": 165,
   "id": "e7e704b1-a174-47af-8a0c-56ed87745023",
   "metadata": {},
   "outputs": [
    {
     "data": {
      "text/html": [
       "<div>\n",
       "<style scoped>\n",
       "    .dataframe tbody tr th:only-of-type {\n",
       "        vertical-align: middle;\n",
       "    }\n",
       "\n",
       "    .dataframe tbody tr th {\n",
       "        vertical-align: top;\n",
       "    }\n",
       "\n",
       "    .dataframe thead th {\n",
       "        text-align: right;\n",
       "    }\n",
       "</style>\n",
       "<table border=\"1\" class=\"dataframe\">\n",
       "  <thead>\n",
       "    <tr style=\"text-align: right;\">\n",
       "      <th></th>\n",
       "      <th>Age</th>\n",
       "      <th>Gender</th>\n",
       "      <th>headache</th>\n",
       "      <th>muscle pain</th>\n",
       "      <th>nausea</th>\n",
       "      <th>diarrhea</th>\n",
       "      <th>cough</th>\n",
       "      <th>fever range (deg F)</th>\n",
       "      <th>Hemoglobin (g/dL)</th>\n",
       "      <th>Platelet Count</th>\n",
       "      <th>Urine Culture Bacteria</th>\n",
       "      <th>Calcium (mg/dL)</th>\n",
       "      <th>Potassium (mg/dL)</th>\n",
       "    </tr>\n",
       "  </thead>\n",
       "  <tbody>\n",
       "    <tr>\n",
       "      <th>0</th>\n",
       "      <td>24</td>\n",
       "      <td>1</td>\n",
       "      <td>1</td>\n",
       "      <td>1</td>\n",
       "      <td>1</td>\n",
       "      <td>0</td>\n",
       "      <td>1</td>\n",
       "      <td>101.8</td>\n",
       "      <td>13.7</td>\n",
       "      <td>272673</td>\n",
       "      <td>0</td>\n",
       "      <td>8.2</td>\n",
       "      <td>4.2</td>\n",
       "    </tr>\n",
       "    <tr>\n",
       "      <th>1</th>\n",
       "      <td>42</td>\n",
       "      <td>1</td>\n",
       "      <td>0</td>\n",
       "      <td>0</td>\n",
       "      <td>1</td>\n",
       "      <td>0</td>\n",
       "      <td>1</td>\n",
       "      <td>104.8</td>\n",
       "      <td>11.3</td>\n",
       "      <td>175743</td>\n",
       "      <td>0</td>\n",
       "      <td>8.9</td>\n",
       "      <td>4.5</td>\n",
       "    </tr>\n",
       "    <tr>\n",
       "      <th>2</th>\n",
       "      <td>32</td>\n",
       "      <td>2</td>\n",
       "      <td>1</td>\n",
       "      <td>0</td>\n",
       "      <td>1</td>\n",
       "      <td>1</td>\n",
       "      <td>0</td>\n",
       "      <td>101.5</td>\n",
       "      <td>12.8</td>\n",
       "      <td>217500</td>\n",
       "      <td>1</td>\n",
       "      <td>8.8</td>\n",
       "      <td>4.8</td>\n",
       "    </tr>\n",
       "    <tr>\n",
       "      <th>3</th>\n",
       "      <td>59</td>\n",
       "      <td>1</td>\n",
       "      <td>0</td>\n",
       "      <td>1</td>\n",
       "      <td>1</td>\n",
       "      <td>1</td>\n",
       "      <td>1</td>\n",
       "      <td>104.9</td>\n",
       "      <td>13.5</td>\n",
       "      <td>247444</td>\n",
       "      <td>2</td>\n",
       "      <td>9.4</td>\n",
       "      <td>3.5</td>\n",
       "    </tr>\n",
       "    <tr>\n",
       "      <th>4</th>\n",
       "      <td>37</td>\n",
       "      <td>2</td>\n",
       "      <td>1</td>\n",
       "      <td>1</td>\n",
       "      <td>0</td>\n",
       "      <td>0</td>\n",
       "      <td>0</td>\n",
       "      <td>100.4</td>\n",
       "      <td>13.2</td>\n",
       "      <td>257447</td>\n",
       "      <td>0</td>\n",
       "      <td>9.1</td>\n",
       "      <td>4.0</td>\n",
       "    </tr>\n",
       "    <tr>\n",
       "      <th>...</th>\n",
       "      <td>...</td>\n",
       "      <td>...</td>\n",
       "      <td>...</td>\n",
       "      <td>...</td>\n",
       "      <td>...</td>\n",
       "      <td>...</td>\n",
       "      <td>...</td>\n",
       "      <td>...</td>\n",
       "      <td>...</td>\n",
       "      <td>...</td>\n",
       "      <td>...</td>\n",
       "      <td>...</td>\n",
       "      <td>...</td>\n",
       "    </tr>\n",
       "    <tr>\n",
       "      <th>654</th>\n",
       "      <td>69</td>\n",
       "      <td>1</td>\n",
       "      <td>1</td>\n",
       "      <td>0</td>\n",
       "      <td>1</td>\n",
       "      <td>1</td>\n",
       "      <td>1</td>\n",
       "      <td>103.9</td>\n",
       "      <td>11.0</td>\n",
       "      <td>134200</td>\n",
       "      <td>2</td>\n",
       "      <td>9.5</td>\n",
       "      <td>4.5</td>\n",
       "    </tr>\n",
       "    <tr>\n",
       "      <th>655</th>\n",
       "      <td>28</td>\n",
       "      <td>2</td>\n",
       "      <td>1</td>\n",
       "      <td>1</td>\n",
       "      <td>0</td>\n",
       "      <td>0</td>\n",
       "      <td>1</td>\n",
       "      <td>100.5</td>\n",
       "      <td>15.6</td>\n",
       "      <td>251714</td>\n",
       "      <td>1</td>\n",
       "      <td>8.9</td>\n",
       "      <td>4.2</td>\n",
       "    </tr>\n",
       "    <tr>\n",
       "      <th>656</th>\n",
       "      <td>68</td>\n",
       "      <td>2</td>\n",
       "      <td>1</td>\n",
       "      <td>0</td>\n",
       "      <td>0</td>\n",
       "      <td>1</td>\n",
       "      <td>1</td>\n",
       "      <td>100.7</td>\n",
       "      <td>13.9</td>\n",
       "      <td>262155</td>\n",
       "      <td>1</td>\n",
       "      <td>9.0</td>\n",
       "      <td>4.2</td>\n",
       "    </tr>\n",
       "    <tr>\n",
       "      <th>657</th>\n",
       "      <td>27</td>\n",
       "      <td>1</td>\n",
       "      <td>0</td>\n",
       "      <td>0</td>\n",
       "      <td>1</td>\n",
       "      <td>0</td>\n",
       "      <td>0</td>\n",
       "      <td>103.1</td>\n",
       "      <td>12.3</td>\n",
       "      <td>240582</td>\n",
       "      <td>2</td>\n",
       "      <td>9.2</td>\n",
       "      <td>4.1</td>\n",
       "    </tr>\n",
       "    <tr>\n",
       "      <th>658</th>\n",
       "      <td>58</td>\n",
       "      <td>1</td>\n",
       "      <td>1</td>\n",
       "      <td>1</td>\n",
       "      <td>0</td>\n",
       "      <td>0</td>\n",
       "      <td>0</td>\n",
       "      <td>99.8</td>\n",
       "      <td>13.9</td>\n",
       "      <td>251077</td>\n",
       "      <td>0</td>\n",
       "      <td>9.6</td>\n",
       "      <td>4.1</td>\n",
       "    </tr>\n",
       "  </tbody>\n",
       "</table>\n",
       "<p>659 rows × 13 columns</p>\n",
       "</div>"
      ],
      "text/plain": [
       "     Age  Gender  headache  muscle pain  nausea  diarrhea  cough  \\\n",
       "0     24       1         1            1       1         0      1   \n",
       "1     42       1         0            0       1         0      1   \n",
       "2     32       2         1            0       1         1      0   \n",
       "3     59       1         0            1       1         1      1   \n",
       "4     37       2         1            1       0         0      0   \n",
       "..   ...     ...       ...          ...     ...       ...    ...   \n",
       "654   69       1         1            0       1         1      1   \n",
       "655   28       2         1            1       0         0      1   \n",
       "656   68       2         1            0       0         1      1   \n",
       "657   27       1         0            0       1         0      0   \n",
       "658   58       1         1            1       0         0      0   \n",
       "\n",
       "     fever range (deg F)  Hemoglobin (g/dL)  Platelet Count  \\\n",
       "0                  101.8               13.7          272673   \n",
       "1                  104.8               11.3          175743   \n",
       "2                  101.5               12.8          217500   \n",
       "3                  104.9               13.5          247444   \n",
       "4                  100.4               13.2          257447   \n",
       "..                   ...                ...             ...   \n",
       "654                103.9               11.0          134200   \n",
       "655                100.5               15.6          251714   \n",
       "656                100.7               13.9          262155   \n",
       "657                103.1               12.3          240582   \n",
       "658                 99.8               13.9          251077   \n",
       "\n",
       "     Urine Culture Bacteria  Calcium (mg/dL)  Potassium (mg/dL)  \n",
       "0                         0              8.2                4.2  \n",
       "1                         0              8.9                4.5  \n",
       "2                         1              8.8                4.8  \n",
       "3                         2              9.4                3.5  \n",
       "4                         0              9.1                4.0  \n",
       "..                      ...              ...                ...  \n",
       "654                       2              9.5                4.5  \n",
       "655                       1              8.9                4.2  \n",
       "656                       1              9.0                4.2  \n",
       "657                       2              9.2                4.1  \n",
       "658                       0              9.6                4.1  \n",
       "\n",
       "[659 rows x 13 columns]"
      ]
     },
     "execution_count": 165,
     "metadata": {},
     "output_type": "execute_result"
    }
   ],
   "source": [
    "data.iloc[:,0:13 ]"
   ]
  },
  {
   "cell_type": "code",
   "execution_count": 166,
   "id": "5e5cb216-e580-431b-a12b-ed5207402674",
   "metadata": {},
   "outputs": [],
   "source": [
    "X = data.iloc[:,0:13]\n",
    "y = data.iloc[:,13]"
   ]
  },
  {
   "cell_type": "code",
   "execution_count": 167,
   "id": "e2a192fd-dcdd-43e1-b1bd-710ee647fb44",
   "metadata": {},
   "outputs": [
    {
     "data": {
      "text/plain": [
       "(659, 13)"
      ]
     },
     "execution_count": 167,
     "metadata": {},
     "output_type": "execute_result"
    }
   ],
   "source": [
    "X.shape"
   ]
  },
  {
   "cell_type": "code",
   "execution_count": 168,
   "id": "ea58c1e4-16e6-41f5-a294-222e23f3f4d2",
   "metadata": {},
   "outputs": [
    {
     "data": {
      "text/plain": [
       "(659,)"
      ]
     },
     "execution_count": 168,
     "metadata": {},
     "output_type": "execute_result"
    }
   ],
   "source": [
    "y.shape"
   ]
  },
  {
   "cell_type": "raw",
   "id": "650268d1-15f7-491a-a995-24702dba517f",
   "metadata": {},
   "source": [
    "Split data into train and test sets"
   ]
  },
  {
   "cell_type": "code",
   "execution_count": 169,
   "id": "1a3c3982-f82d-4ff0-ab58-22669b1d91c9",
   "metadata": {},
   "outputs": [],
   "source": [
    "from sklearn.model_selection import train_test_split\n",
    "X_train,X_test,y_train,y_test=train_test_split(X,y, test_size=0.2)"
   ]
  },
  {
   "cell_type": "code",
   "execution_count": 170,
   "id": "20cc6b94-dbaf-40a9-ad98-e5b471391998",
   "metadata": {},
   "outputs": [
    {
     "data": {
      "text/plain": [
       "(527, 13)"
      ]
     },
     "execution_count": 170,
     "metadata": {},
     "output_type": "execute_result"
    }
   ],
   "source": [
    "X_train.shape"
   ]
  },
  {
   "cell_type": "code",
   "execution_count": 171,
   "id": "0cb250df-d121-4e2b-a3ec-6bbf81655923",
   "metadata": {},
   "outputs": [
    {
     "data": {
      "text/plain": [
       "(527,)"
      ]
     },
     "execution_count": 171,
     "metadata": {},
     "output_type": "execute_result"
    }
   ],
   "source": [
    "y_train.shape"
   ]
  },
  {
   "cell_type": "code",
   "execution_count": 172,
   "id": "71bd415b-88dc-45c3-8cdd-29033afd427c",
   "metadata": {},
   "outputs": [
    {
     "data": {
      "text/plain": [
       "(132, 13)"
      ]
     },
     "execution_count": 172,
     "metadata": {},
     "output_type": "execute_result"
    }
   ],
   "source": [
    "X_test.shape"
   ]
  },
  {
   "cell_type": "code",
   "execution_count": 173,
   "id": "413a14ac-2ecc-48d3-9f96-ad8103a9b076",
   "metadata": {},
   "outputs": [
    {
     "data": {
      "text/plain": [
       "(132,)"
      ]
     },
     "execution_count": 173,
     "metadata": {},
     "output_type": "execute_result"
    }
   ],
   "source": [
    "y_test.shape"
   ]
  },
  {
   "cell_type": "raw",
   "id": "838728e5-18f5-4e1a-90a3-87c2b2e59443",
   "metadata": {},
   "source": [
    "Standardization of the data"
   ]
  },
  {
   "cell_type": "code",
   "execution_count": 174,
   "id": "638ba12b-6553-4fa7-9446-9e93b45bf957",
   "metadata": {},
   "outputs": [],
   "source": [
    "# scale the data between 0 and 1"
   ]
  },
  {
   "cell_type": "code",
   "execution_count": 207,
   "id": "e1907abb-4310-46ec-a4eb-8e34212def56",
   "metadata": {},
   "outputs": [
    {
     "data": {
      "text/plain": [
       "['Model/scaler.pkl']"
      ]
     },
     "execution_count": 207,
     "metadata": {},
     "output_type": "execute_result"
    }
   ],
   "source": [
    "import joblib\n",
    "from sklearn.preprocessing import MinMaxScaler\n",
    "\n",
    "# Fit the scaler on the training data\n",
    "min_max_scaler = MinMaxScaler()\n",
    "X_train_scaled = min_max_scaler.fit_transform(X_train)\n",
    "\n",
    "# Save the fitted scaler\n",
    "joblib.dump(min_max_scaler, 'Model/scaler.pkl')\n"
   ]
  },
  {
   "cell_type": "code",
   "execution_count": 208,
   "id": "f3aed92d-97c1-4604-af8e-9d5d54752c16",
   "metadata": {},
   "outputs": [
    {
     "data": {
      "text/plain": [
       "0.6538461538461539"
      ]
     },
     "execution_count": 208,
     "metadata": {},
     "output_type": "execute_result"
    }
   ],
   "source": [
    "X_train_scaled[0,0]"
   ]
  },
  {
   "cell_type": "code",
   "execution_count": 209,
   "id": "54971494-7d13-4139-a412-44d003b92f84",
   "metadata": {},
   "outputs": [
    {
     "data": {
      "text/plain": [
       "52"
      ]
     },
     "execution_count": 209,
     "metadata": {},
     "output_type": "execute_result"
    }
   ],
   "source": [
    "X_train.iloc[0,0]"
   ]
  },
  {
   "cell_type": "code",
   "execution_count": 210,
   "id": "79c46e59-133e-4912-9105-b103a5f5f8c7",
   "metadata": {},
   "outputs": [],
   "source": [
    "# Transform the test data using the fitted scaler\n",
    "X_test_scaled = min_max_scaler.transform(X_test)\n"
   ]
  },
  {
   "cell_type": "raw",
   "id": "593ff0ac-437b-43b0-800d-ac2c3facdba8",
   "metadata": {},
   "source": [
    "Training Phase"
   ]
  },
  {
   "cell_type": "code",
   "execution_count": 178,
   "id": "5d48d2bc-4c4f-4e1d-ba73-cc5ead10810c",
   "metadata": {},
   "outputs": [],
   "source": [
    "# create random forest classifier"
   ]
  },
  {
   "cell_type": "code",
   "execution_count": 211,
   "id": "adc2b7ef-d5fc-40f5-8718-74e2ba3fe432",
   "metadata": {},
   "outputs": [
    {
     "data": {
      "text/plain": [
       "['Model/TyphoidNew.pkl']"
      ]
     },
     "execution_count": 211,
     "metadata": {},
     "output_type": "execute_result"
    }
   ],
   "source": [
    "from sklearn.ensemble import RandomForestClassifier \n",
    "\n",
    "model = RandomForestClassifier()\n",
    "model.fit(X_train_scaled, y_train)\n",
    "# Save the trained model and reference columns\n",
    "joblib.dump((model, X_train.columns), 'Model/TyphoidNew.pkl')\n"
   ]
  },
  {
   "cell_type": "raw",
   "id": "7df57b86-2efe-43c9-b059-44c93468003d",
   "metadata": {},
   "source": [
    "Testing phase"
   ]
  },
  {
   "cell_type": "code",
   "execution_count": 212,
   "id": "39b34d26-5048-4c82-945e-2c2b9e9b0971",
   "metadata": {},
   "outputs": [],
   "source": [
    "ref_cols = list(X_test.columns)"
   ]
  },
  {
   "cell_type": "code",
   "execution_count": 213,
   "id": "34994a0d-9761-4256-a272-590a43f5e368",
   "metadata": {},
   "outputs": [
    {
     "data": {
      "text/plain": [
       "['Age',\n",
       " 'Gender',\n",
       " 'headache',\n",
       " 'muscle pain',\n",
       " 'nausea',\n",
       " 'diarrhea',\n",
       " 'cough',\n",
       " 'fever range (deg F)',\n",
       " 'Hemoglobin (g/dL)',\n",
       " 'Platelet Count',\n",
       " 'Urine Culture Bacteria',\n",
       " 'Calcium (mg/dL)',\n",
       " 'Potassium (mg/dL)']"
      ]
     },
     "execution_count": 213,
     "metadata": {},
     "output_type": "execute_result"
    }
   ],
   "source": [
    "ref_cols"
   ]
  },
  {
   "cell_type": "code",
   "execution_count": 214,
   "id": "a4fdc20d-78ce-458c-bb00-d32680ac474a",
   "metadata": {},
   "outputs": [],
   "source": [
    "y_pred = clf.predict(X_test_scaled)"
   ]
  },
  {
   "cell_type": "code",
   "execution_count": 215,
   "id": "2d04db92-4618-4dc1-bb18-2351c91e39b9",
   "metadata": {},
   "outputs": [
    {
     "data": {
      "text/plain": [
       "array([1, 1, 1, 1, 1, 0, 1, 0, 1, 1], dtype=int64)"
      ]
     },
     "execution_count": 215,
     "metadata": {},
     "output_type": "execute_result"
    }
   ],
   "source": [
    "y_pred[0:10]"
   ]
  },
  {
   "cell_type": "code",
   "execution_count": 216,
   "id": "170c4696-fa7a-4e23-9f52-5534f5310c8c",
   "metadata": {},
   "outputs": [
    {
     "data": {
      "text/plain": [
       "110    1\n",
       "35     1\n",
       "487    1\n",
       "55     1\n",
       "196    1\n",
       "589    0\n",
       "248    1\n",
       "238    0\n",
       "526    1\n",
       "94     1\n",
       "Name: typhoid, dtype: int64"
      ]
     },
     "execution_count": 216,
     "metadata": {},
     "output_type": "execute_result"
    }
   ],
   "source": [
    "y_test[0:10]"
   ]
  },
  {
   "cell_type": "code",
   "execution_count": 217,
   "id": "dba69080-5ed8-4e4a-8cf0-d8d8164edadb",
   "metadata": {},
   "outputs": [
    {
     "data": {
      "text/plain": [
       "array([1, 1, 1, 1, 1, 0, 1, 0, 1, 1, 0, 1, 1, 1, 1, 1, 1, 1, 1, 0, 1, 1,\n",
       "       1, 1, 1, 1, 1, 1, 1, 0, 1, 1, 1, 1, 1, 1, 1, 1, 1, 1, 0, 1, 0, 1,\n",
       "       1, 1, 1, 0, 1, 1, 0, 1, 1, 1, 1, 1, 1, 1, 1, 1, 1, 1, 0, 1, 0, 1,\n",
       "       1, 0, 1, 1, 1, 1, 0, 1, 1, 1, 0, 1, 1, 1, 1, 0, 0, 1, 1, 1, 1, 1,\n",
       "       1, 1, 1, 1, 1, 1, 1, 1, 1, 0, 1, 1, 0, 1, 1, 0, 1, 1, 1, 1, 0, 1,\n",
       "       1, 0, 0, 0, 1, 1, 1, 1, 1, 0, 0, 1, 0, 0, 1, 0, 1, 1, 1, 1, 1, 1],\n",
       "      dtype=int64)"
      ]
     },
     "execution_count": 217,
     "metadata": {},
     "output_type": "execute_result"
    }
   ],
   "source": [
    "prediction = clf.predict(X_test_scaled)\n",
    "prediction"
   ]
  },
  {
   "cell_type": "raw",
   "id": "0b7aab86-6e39-4f62-b116-0fdfbb405247",
   "metadata": {},
   "source": [
    "Evaluating the model\n",
    "The following metrics will be used\n",
    "1. accuracy\n",
    "2. f1 score\n",
    "3. recall\n",
    "4. precision\n",
    "5. confusion matrics\n",
    "6. Classification report"
   ]
  },
  {
   "cell_type": "code",
   "execution_count": 218,
   "id": "6314f2ca-50aa-40b0-953b-058ec649151f",
   "metadata": {},
   "outputs": [],
   "source": [
    "from sklearn.metrics import balanced_accuracy_score, f1_score, precision_score, recall_score\n",
    "from sklearn.metrics import classification_report"
   ]
  },
  {
   "cell_type": "code",
   "execution_count": 219,
   "id": "c07df2b4-70e9-4d5a-8dc8-9c2fe8ceb0cf",
   "metadata": {},
   "outputs": [
    {
     "name": "stdout",
     "output_type": "stream",
     "text": [
      "balanced accuracy:  1.0\n"
     ]
    }
   ],
   "source": [
    "#balanced accuracy\n",
    "balanced_accuracy = balanced_accuracy_score(y_test, y_pred)\n",
    "balanced_accuracy = round(balanced_accuracy,2)\n",
    "print(\"balanced accuracy: \", balanced_accuracy)"
   ]
  },
  {
   "cell_type": "code",
   "execution_count": 220,
   "id": "7b9e6d24-5df5-49ce-b8dd-ccb6a62870b5",
   "metadata": {},
   "outputs": [
    {
     "name": "stdout",
     "output_type": "stream",
     "text": [
      "F1_score:  1.0\n"
     ]
    }
   ],
   "source": [
    "# F1 Score\n",
    "f1_score = f1_score(y_test, y_pred)\n",
    "f1_score = round(f1_score,2)\n",
    "print(\"F1_score: \", f1_score)"
   ]
  },
  {
   "cell_type": "code",
   "execution_count": 221,
   "id": "ca927dd6-b0fe-484d-aafb-9e93e021157f",
   "metadata": {},
   "outputs": [
    {
     "name": "stdout",
     "output_type": "stream",
     "text": [
      "recall:  1\n"
     ]
    }
   ],
   "source": [
    "# Recall\n",
    "recall_ = recall_score(y_test, y_pred)\n",
    "recall_ = round(recall_)\n",
    "print(\"recall: \", recall_)"
   ]
  },
  {
   "cell_type": "code",
   "execution_count": 222,
   "id": "8a4c9f0e-f8af-4214-bc79-8015a3aba681",
   "metadata": {},
   "outputs": [
    {
     "name": "stdout",
     "output_type": "stream",
     "text": [
      "Precision:  1\n"
     ]
    }
   ],
   "source": [
    "# Precision\n",
    "Precision_ = precision_score(y_test, y_pred)\n",
    "Precision_ = round(Precision_)\n",
    "print(\"Precision: \", Precision_)"
   ]
  },
  {
   "cell_type": "code",
   "execution_count": 223,
   "id": "058d3c6a-c984-4d21-a7b7-b696763650d8",
   "metadata": {},
   "outputs": [
    {
     "name": "stdout",
     "output_type": "stream",
     "text": [
      "              precision    recall  f1-score   support\n",
      "\n",
      "           0       1.00      1.00      1.00        28\n",
      "           1       1.00      1.00      1.00       104\n",
      "\n",
      "    accuracy                           1.00       132\n",
      "   macro avg       1.00      1.00      1.00       132\n",
      "weighted avg       1.00      1.00      1.00       132\n",
      "\n"
     ]
    }
   ],
   "source": [
    "print(classification_report(y_test, y_pred))"
   ]
  },
  {
   "cell_type": "code",
   "execution_count": 225,
   "id": "2d795dee-cc81-4f93-a4c2-4d2a07f158ca",
   "metadata": {},
   "outputs": [],
   "source": [
    "mega = [\"24\",\"1\", \"1\", \"1\", \"1\", \"0\", \"1\", \"101.8\", \"13.7\", \"272673\", \"0\", \"8.2\", \"4.2\"]"
   ]
  },
  {
   "cell_type": "code",
   "execution_count": 226,
   "id": "ecfd7b2b-4409-45f6-8b78-cac4cc28787f",
   "metadata": {},
   "outputs": [],
   "source": [
    "values = ['Age',\n",
    " 'Gender',\n",
    " 'headache',\n",
    " 'muscle pain',\n",
    " 'nausea',\n",
    " 'diarrhea',\n",
    " 'cough',\n",
    " 'fever range (deg F)',\n",
    " 'Hemoglobin (g/dL)',\n",
    " 'Platelet Count',\n",
    " 'Urine Culture Bacteria',\n",
    " 'Calcium (mg/dL)',\n",
    " 'Potassium (mg/dL)']"
   ]
  },
  {
   "cell_type": "code",
   "execution_count": 236,
   "id": "722bc54f-d402-4310-86f5-54f42f746bc1",
   "metadata": {},
   "outputs": [
    {
     "name": "stdout",
     "output_type": "stream",
     "text": [
      "Predicted value: 0\n"
     ]
    }
   ],
   "source": [
    "import joblib\n",
    "import pandas as pd\n",
    "\n",
    "# Load the trained model and reference columns\n",
    "model, ref_cols = joblib.load(\"Model/TyphoidNew.pkl\")\n",
    "\n",
    "# Load the fitted scaler\n",
    "scaler = joblib.load('Model/scaler.pkl')\n",
    "mega = [[\"37\",\"2\", \"1\", \"1\", \"0\", \"0\", \"0\", \"100.4\", \"13.2\", \"257447\", \"0\", \"9.1\", \"4.0\"]]\n",
    "\n",
    "# Ensure new data has the same columns as the training data\n",
    "new_data_df = pd.DataFrame(mega, columns=ref_cols)\n",
    "\n",
    "# Transform new data using the loaded scaler\n",
    "mega_data_scaled = scaler.transform(new_data_df)\n",
    "\n",
    "# Make predictions using the model\n",
    "predictions = model.predict(mega_data_scaled)\n",
    "\n",
    "# Print the prediction\n",
    "print(\"Predicted value:\", predictions[0])\n",
    "\n"
   ]
  },
  {
   "cell_type": "code",
   "execution_count": null,
   "id": "307fff4e-7a71-46f6-be69-6cf4aaf74ddf",
   "metadata": {},
   "outputs": [],
   "source": []
  }
 ],
 "metadata": {
  "kernelspec": {
   "display_name": "Python 3 (ipykernel)",
   "language": "python",
   "name": "python3"
  },
  "language_info": {
   "codemirror_mode": {
    "name": "ipython",
    "version": 3
   },
   "file_extension": ".py",
   "mimetype": "text/x-python",
   "name": "python",
   "nbconvert_exporter": "python",
   "pygments_lexer": "ipython3",
   "version": "3.11.7"
  }
 },
 "nbformat": 4,
 "nbformat_minor": 5
}
